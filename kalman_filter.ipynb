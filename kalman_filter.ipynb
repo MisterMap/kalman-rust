{
 "cells": [
  {
   "cell_type": "code",
   "execution_count": 7,
   "metadata": {},
   "outputs": [],
   "source": [
    ":dep ndarray = \"0.15.0\""
   ]
  },
  {
   "cell_type": "code",
   "execution_count": 11,
   "metadata": {},
   "outputs": [
    {
     "ename": "Error",
     "evalue": "consider importing this struct",
     "output_type": "error",
     "traceback": [
      "",
      "consider importing this struct"
     ]
    },
    {
     "ename": "Error",
     "evalue": "consider importing this struct",
     "output_type": "error",
     "traceback": [
      "",
      "consider importing this struct"
     ]
    },
    {
     "ename": "Error",
     "evalue": "consider importing this struct",
     "output_type": "error",
     "traceback": [
      "",
      "consider importing this struct"
     ]
    }
   ],
   "source": [
    "// Create a three-dimensional f64 array, initialized with zeros\n",
    "use ndarray::Array3;\n",
    "let mut temperature = Array3::<f64>::zeros((3, 4, 5));\n",
    "// Increase the temperature in this location\n",
    "temperature[[2, 2, 2]] += 0.5;"
   ]
  },
  {
   "cell_type": "code",
   "execution_count": 17,
   "metadata": {},
   "outputs": [
    {
     "name": "stdout",
     "output_type": "stream",
     "text": [
      "[[1, 2, 3],\n",
      " [4, 5, 6]]\n",
      "+\n",
      "[[6, 5, 4],\n",
      " [3, 2, 1]]\n",
      "=\n",
      "[[7, 7, 7],\n",
      " [7, 7, 7]]\n",
      "[[15, 12, 9],\n",
      " [45, 36, 27],\n",
      " [10, 8, 6]]\n"
     ]
    },
    {
     "data": {
      "text/plain": [
       "()"
      ]
     },
     "execution_count": 17,
     "metadata": {},
     "output_type": "execute_result"
    }
   ],
   "source": [
    "// use std::ndarray::arr2;\n",
    "extern crate ndarray;\n",
    "use ndarray::arr2;\n",
    "use ndarray::Array2;\n",
    "let a : Array2<f64>= arr2(&[[1., 2., 3.],\n",
    "               [4., 5., 6.]]);\n",
    "\n",
    "let b : Array2<f64>= arr2(&[[6., 5., 4.],\n",
    "               [3., 2., 1.]]);\n",
    "\n",
    "let sum: Array2<f64> = &a + &b;\n",
    "\n",
    "println!(\"{}\", a);\n",
    "println!(\"+\");\n",
    "println!(\"{}\", b);\n",
    "println!(\"=\");\n",
    "println!(\"{}\", sum);\n",
    "\n",
    "let a1 : Array2<f64>= arr2(&[[1., 2., 3.],\n",
    "               [4., 5., 6.],\n",
    "                [1., 1., 1.]]);\n",
    "\n",
    "let b1 : Array2<f64>= arr2(&[[6., 5., 4.],\n",
    "               [3., 2., 1.],\n",
    "                [1.,1. ,1.]]);\n",
    "let mul : Array2<f64>= a1.dot(&b1);\n",
    "println!(\"{}\", mul)"
   ]
  },
  {
   "cell_type": "code",
   "execution_count": 12,
   "metadata": {},
   "outputs": [],
   "source": [
    ":dep darn = {version = \"0.3.0\"}\n",
    ":dep ndarray = {version = \"0.13.1\"}\n",
    ":dep ndarray-csv = {version = \"0.4.1\"}\n",
    ":dep ureq = {version = \"0.11.4\"}\n",
    ":dep ndarray-stats = {version = \"0.3.0\"}\n",
    "extern crate csv;\n",
    "extern crate ndarray;\n",
    "extern crate noisy_float;\n",
    "\n",
    "use std::io::prelude::*;\n",
    "use std::fs::*;\n",
    "use ndarray::prelude::*;\n",
    "use ndarray_csv::Array2Reader;\n",
    "use std::str::FromStr;\n",
    "use noisy_float::types::n64;\n",
    "use ndarray_stats::{QuantileExt, interpolate::Nearest, interpolate::Midpoint}"
   ]
  },
  {
   "cell_type": "code",
   "execution_count": 14,
   "metadata": {},
   "outputs": [
    {
     "data": {
      "text/html": [
       "<table><tr><th></th><th>0</th><th>1</th><th>2</th><th>3</th></tr><tr><th>0</th><td>0.0</td><td>0.0</td><td>0.0</td><td>0.0</td></tr><tr><th>1</th><td>0.0</td><td>0.0</td><td>0.0</td><td>0.0</td></tr><tr><th>2</th><td>0.0</td><td>0.0</td><td>0.0</td><td>0.0</td></tr></table>"
      ],
      "text/plain": [
       "Ok(())"
      ]
     },
     "execution_count": 14,
     "metadata": {},
     "output_type": "execute_result"
    }
   ],
   "source": [
    ":dep showata = { version = \"0.3\", features=[\"show_ndarray\"]}\n",
    ":dep ndarray = \"0.14\"\n",
    "\n",
    "use showata::Showable;\n",
    "use ndarray::Array2;\n",
    "\n",
    "let data: Array2<f64> = Array2::<f64>::zeros((3, 4));\n",
    "data.show()"
   ]
  },
  {
   "cell_type": "code",
   "execution_count": null,
   "metadata": {},
   "outputs": [],
   "source": [
    "let file_name = \"Iris.csv\";\n",
    "\n",
    "let res = ureq::get(\"https://datacrayon.com/datasets/Iris.csv\").call().into_string()?;\n",
    "\n",
    "let mut file = File::create(file_name)?;\n",
    "file.write_all(res.as_bytes());\n",
    "let mut rdr = csv::Reader::from_path(file_name)?;\n",
    "remove_file(file_name)?;\n",
    "\n",
    "let data: Array2<String>= rdr.deserialize_array2_dynamic().unwrap();\n",
    "let mut headers : Vec<String> = Vec::new();\n",
    "\n",
    "for element in rdr.headers()?.into_iter() {\n",
    "        headers.push(String::from(element));\n",
    "};"
   ]
  },
  {
   "cell_type": "code",
   "execution_count": 8,
   "metadata": {},
   "outputs": [
    {
     "name": "stdout",
     "output_type": "stream",
     "text": [
      "32\n"
     ]
    }
   ],
   "source": [
    "let x = 32;\n",
    "println!(\"{}\", x);"
   ]
  },
  {
   "cell_type": "code",
   "execution_count": 7,
   "metadata": {},
   "outputs": [
    {
     "ename": "Error",
     "evalue": "consider importing this struct",
     "output_type": "error",
     "traceback": [
      "",
      "consider importing this struct"
     ]
    },
    {
     "ename": "Error",
     "evalue": "consider importing this struct",
     "output_type": "error",
     "traceback": [
      "",
      "consider importing this struct"
     ]
    },
    {
     "ename": "Error",
     "evalue": "consider importing this struct",
     "output_type": "error",
     "traceback": [
      "",
      "consider importing this struct"
     ]
    }
   ],
   "source": [
    "let a = ndarray::array![[1.,2.,3.], [4.,5.,6.]];\n",
    "// println!(\"{}\", a);"
   ]
  },
  {
   "cell_type": "code",
   "execution_count": 8,
   "metadata": {},
   "outputs": [],
   "source": [
    ":dep plotly = { version = \">=0.6.0\" }\n",
    ":dep itertools-num = \"0.1.3\""
   ]
  },
  {
   "cell_type": "code",
   "execution_count": 9,
   "metadata": {},
   "outputs": [
    {
     "ename": "Error",
     "evalue": "cannot find value `x` in this scope",
     "output_type": "error",
     "traceback": [
      "x",
      "\u001b[91m^\u001b[0m \u001b[94mnot found in this scope\u001b[0m",
      "cannot find value `x` in this scope"
     ]
    }
   ],
   "source": []
  },
  {
   "cell_type": "code",
   "execution_count": 15,
   "metadata": {},
   "outputs": [
    {
     "ename": "Error",
     "evalue": "file not found for module `user`",
     "output_type": "error",
     "traceback": [
      "mod user;",
      "\u001b[91m^^^^^^^^^\u001b[0m \u001b[94m\u001b[0m",
      "file not found for module `user`",
      "\u001b[1mhelp\u001b[0m: to create the module `user`, create file \"src\\user.rs\""
     ]
    },
    {
     "ename": "Error",
     "evalue": "unresolved import `user::User`",
     "output_type": "error",
     "traceback": [
      "no `User` in `user`",
      "unresolved import `user::User`"
     ]
    }
   ],
   "source": [
    "mod user;\n",
    "use user::User;"
   ]
  },
  {
   "cell_type": "code",
   "execution_count": 54,
   "metadata": {},
   "outputs": [
    {
     "ename": "Error",
     "evalue": "argument must be a string literal",
     "output_type": "error",
     "traceback": [
      "    include!(static_files);",
      "\u001b[91m             ^^^^^^^^^^^^\u001b[0m \u001b[94m\u001b[0m",
      "argument must be a string literal"
     ]
    },
    {
     "ename": "Error",
     "evalue": "unresolved import `user::User`",
     "output_type": "error",
     "traceback": [
      "no `User` in `user`",
      "unresolved import `user::User`"
     ]
    }
   ],
   "source": [
    "mod user {\n",
    "    include!(static_files);\n",
    "}"
   ]
  },
  {
   "cell_type": "code",
   "execution_count": 26,
   "metadata": {},
   "outputs": [],
   "source": [
    "use user::User;"
   ]
  },
  {
   "cell_type": "code",
   "execution_count": 29,
   "metadata": {},
   "outputs": [],
   "source": [
    "let x = User{name: 23};"
   ]
  },
  {
   "cell_type": "code",
   "execution_count": 41,
   "metadata": {},
   "outputs": [
    {
     "ename": "Error",
     "evalue": "unresolved import `env::current_dir`",
     "output_type": "error",
     "traceback": [
      "no `current_dir` in the root",
      "unresolved import `env::current_dir`"
     ]
    },
    {
     "ename": "Error",
     "evalue": "cannot find function `current_dir` in crate `env`",
     "output_type": "error",
     "traceback": [
      "let path = env::current_dir()?;",
      "\u001b[91m                ^^^^^^^^^^^\u001b[0m \u001b[94mnot found in `env`\u001b[0m",
      "cannot find function `current_dir` in crate `env`",
      "\u001b[1mhelp\u001b[0m: consider importing this function\n\nuse std::env::current_dir;"
     ]
    }
   ],
   "source": [
    ":dep env\n"
   ]
  },
  {
   "cell_type": "code",
   "execution_count": 49,
   "metadata": {},
   "outputs": [],
   "source": [
    "use std::env::current_dir;\n",
    "let path = std::env::current_dir()?;"
   ]
  },
  {
   "cell_type": "code",
   "execution_count": 57,
   "metadata": {},
   "outputs": [
    {
     "ename": "Error",
     "evalue": "temporary value dropped while borrowed",
     "output_type": "error",
     "traceback": [
      "let static_files = format!(\"{}\\\\src\\\\user.rs\", path.display()).as_bytes();",
      "\u001b[91m                   ^^^^^^^^^^^^^^^^^^^^^^^^^^^^^^^^^^^^^^^^^^^\u001b[0m \u001b[94mcreates a temporary which is freed while still in use\u001b[0m",
      "let static_files = format!(\"{}\\\\src\\\\user.rs\", path.display()).as_bytes();",
      "\u001b[91m                                                                         ^\u001b[0m \u001b[94mtemporary value is freed at the end of this statement\u001b[0m",
      "let static_files = format!(\"{}\\\\src\\\\user.rs\", path.display()).as_bytes();",
      "\u001b[91m                   ^^^^^^^^^^^^^^^^^^^^^^^^^^^^^^^^^^^^^^^^^^^^^^^^^^^^^^\u001b[0m \u001b[94margument requires that borrow lasts for `'static`\u001b[0m",
      "temporary value dropped while borrowed"
     ]
    }
   ],
   "source": [
    "let static_files = format!(\"{}\\\\src\\\\user.rs\", path.display());"
   ]
  },
  {
   "cell_type": "code",
   "execution_count": 59,
   "metadata": {},
   "outputs": [
    {
     "ename": "Error",
     "evalue": "`static_files` does not live long enough",
     "output_type": "error",
     "traceback": [
      "let user_path = static_files.as_bytes();",
      "\u001b[91m                ^^^^^^^^^^^^\u001b[0m \u001b[94mborrowed value does not live long enough\u001b[0m",
      "let user_path = static_files.as_bytes();",
      "\u001b[91m                ^^^^^^^^^^^^^^^^^^^^^^^\u001b[0m \u001b[94margument requires that `static_files` is borrowed for `'static`\u001b[0m",
      "`static_files` does not live long enough"
     ]
    },
    {
     "ename": "Error",
     "evalue": "cannot move out of `static_files` because it is borrowed",
     "output_type": "error",
     "traceback": [
      "let user_path = static_files.as_bytes();",
      "\u001b[91m                ^^^^^^^^^^^^\u001b[0m \u001b[94mborrow occurs due to use in closure\u001b[0m",
      "let user_path = static_files.as_bytes();",
      "\u001b[91m                ^^^^^^^^^^^^^^^^^^^^^^^\u001b[0m \u001b[94margument requires that `static_files` is borrowed for `'static`\u001b[0m",
      "cannot move out of `static_files` because it is borrowed"
     ]
    }
   ],
   "source": [
    "let user_path = static_files.as_bytes();"
   ]
  },
  {
   "cell_type": "code",
   "execution_count": null,
   "metadata": {},
   "outputs": [],
   "source": []
  }
 ],
 "metadata": {
  "kernelspec": {
   "display_name": "Rust",
   "language": "rust",
   "name": "rust"
  },
  "language_info": {
   "codemirror_mode": "rust",
   "file_extension": ".rs",
   "mimetype": "text/rust",
   "name": "Rust",
   "pygment_lexer": "rust",
   "version": ""
  },
  "toc": {
   "nav_menu": {},
   "number_sections": true,
   "sideBar": true,
   "skip_h1_title": false,
   "toc_cell": false,
   "toc_position": {},
   "toc_section_display": "block",
   "toc_window_display": false
  },
  "varInspector": {
   "cols": {
    "lenName": 16,
    "lenType": 16,
    "lenVar": 40
   },
   "kernels_config": {
    "python": {
     "delete_cmd_postfix": "",
     "delete_cmd_prefix": "del ",
     "library": "var_list.py",
     "varRefreshCmd": "print(var_dic_list())"
    },
    "r": {
     "delete_cmd_postfix": ") ",
     "delete_cmd_prefix": "rm(",
     "library": "var_list.r",
     "varRefreshCmd": "cat(var_dic_list()) "
    }
   },
   "types_to_exclude": [
    "module",
    "function",
    "builtin_function_or_method",
    "instance",
    "_Feature"
   ],
   "window_display": false
  }
 },
 "nbformat": 4,
 "nbformat_minor": 4
}
